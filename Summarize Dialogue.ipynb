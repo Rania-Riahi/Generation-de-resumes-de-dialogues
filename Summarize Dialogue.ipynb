{
 "cells": [
  {
   "cell_type": "markdown",
   "id": "7d0b2186-d297-4f00-bc6d-f5d515c7b655",
   "metadata": {},
   "source": [
    "## Summarize Dialogue\n"
   ]
  },
  {
   "cell_type": "markdown",
   "id": "0d8bc0be-4a20-457c-990f-33379f03fda8",
   "metadata": {},
   "source": [
    "In this notebook, the objective is to generate summaries of dialogues by leveraging prompt engineering techniques with the pretrained FLAN-T5 model from Hugging Face. Using the DialogSum dataset, which includes over 10,000 dialogues with manually labeled summaries and topics, we will assess the model’s performance through zero-shot and few-shot prompting methods. This approach allows us to explore FLAN-T5's inherent summarization capabilities and rene outputs based on specic prompts, providing insights into how well it condenses and interprets conversational data without additional training."
   ]
  },
  {
   "cell_type": "code",
   "execution_count": 48,
   "id": "d6273f67-c1aa-4e5e-85c5-e678be3c9a21",
   "metadata": {},
   "outputs": [
    {
     "name": "stdout",
     "output_type": "stream",
     "text": [
      "Requirement already satisfied: transformers in c:\\users\\pc\\onedrive\\documents\\lib\\site-packages (4.47.0)\n",
      "Requirement already satisfied: filelock in c:\\users\\pc\\onedrive\\documents\\lib\\site-packages (from transformers) (3.13.1)\n",
      "Requirement already satisfied: huggingface-hub<1.0,>=0.24.0 in c:\\users\\pc\\onedrive\\documents\\lib\\site-packages (from transformers) (0.26.5)\n",
      "Requirement already satisfied: numpy>=1.17 in c:\\users\\pc\\onedrive\\documents\\lib\\site-packages (from transformers) (1.26.4)\n",
      "Requirement already satisfied: packaging>=20.0 in c:\\users\\pc\\onedrive\\documents\\lib\\site-packages (from transformers) (24.1)\n",
      "Requirement already satisfied: pyyaml>=5.1 in c:\\users\\pc\\onedrive\\documents\\lib\\site-packages (from transformers) (6.0.1)\n",
      "Requirement already satisfied: regex!=2019.12.17 in c:\\users\\pc\\onedrive\\documents\\lib\\site-packages (from transformers) (2024.9.11)\n",
      "Requirement already satisfied: requests in c:\\users\\pc\\onedrive\\documents\\lib\\site-packages (from transformers) (2.32.3)\n",
      "Requirement already satisfied: tokenizers<0.22,>=0.21 in c:\\users\\pc\\onedrive\\documents\\lib\\site-packages (from transformers) (0.21.0)\n",
      "Requirement already satisfied: safetensors>=0.4.1 in c:\\users\\pc\\onedrive\\documents\\lib\\site-packages (from transformers) (0.4.5)\n",
      "Requirement already satisfied: tqdm>=4.27 in c:\\users\\pc\\onedrive\\documents\\lib\\site-packages (from transformers) (4.66.5)\n",
      "Requirement already satisfied: fsspec>=2023.5.0 in c:\\users\\pc\\onedrive\\documents\\lib\\site-packages (from huggingface-hub<1.0,>=0.24.0->transformers) (2023.10.0)\n",
      "Requirement already satisfied: typing-extensions>=3.7.4.3 in c:\\users\\pc\\onedrive\\documents\\lib\\site-packages (from huggingface-hub<1.0,>=0.24.0->transformers) (4.11.0)\n",
      "Requirement already satisfied: colorama in c:\\users\\pc\\onedrive\\documents\\lib\\site-packages (from tqdm>=4.27->transformers) (0.4.6)\n",
      "Requirement already satisfied: charset-normalizer<4,>=2 in c:\\users\\pc\\onedrive\\documents\\lib\\site-packages (from requests->transformers) (3.3.2)\n",
      "Requirement already satisfied: idna<4,>=2.5 in c:\\users\\pc\\onedrive\\documents\\lib\\site-packages (from requests->transformers) (3.7)\n",
      "Requirement already satisfied: urllib3<3,>=1.21.1 in c:\\users\\pc\\onedrive\\documents\\lib\\site-packages (from requests->transformers) (2.2.3)\n",
      "Requirement already satisfied: certifi>=2017.4.17 in c:\\users\\pc\\onedrive\\documents\\lib\\site-packages (from requests->transformers) (2024.8.30)\n"
     ]
    }
   ],
   "source": [
    "!pip install datasets==2.17.0 --quiet\n",
    "!pip install torch==2.5.1 --quiet  \n",
    "!pip install torchdata --quiet    \n",
    "!pip install transformers\n",
    "!pip install evaluate==0.4.3 --quiet\n",
    "!pip install rouge_score==0.1.2 --quiet"
   ]
  },
  {
   "cell_type": "markdown",
   "id": "0387ce63-cb24-4bd0-b9a3-825c932d30d8",
   "metadata": {},
   "source": [
    "### 1 - Import Libraries\n"
   ]
  },
  {
   "cell_type": "code",
   "execution_count": 51,
   "id": "e749f8bb-94a7-41c5-8a6c-3535d61a625f",
   "metadata": {},
   "outputs": [],
   "source": [
    "from datasets import load_dataset\n",
    "from transformers import AutoModelForSeq2SeqLM\n",
    "from transformers import AutoTokenizer\n",
    "from transformers import GenerationConfig\n",
    "import evaluate\n"
   ]
  },
  {
   "cell_type": "markdown",
   "id": "6802f5a7-a1d8-477a-b26e-3981eecad3fc",
   "metadata": {},
   "source": [
    "## 2 - Summarize Dialogue without Prompt\n",
    "\n"
   ]
  },
  {
   "cell_type": "markdown",
   "id": "80d58d92-f8a3-4fa8-97e8-4fcde9a91488",
   "metadata": {},
   "source": [
    "At the rst level, we will perform summarization without prompt engineering. Since FLAN-T5 is designed to perform well on multiple tasks, it can generate summaries without requiring specic prompt engineering."
   ]
  },
  {
   "cell_type": "code",
   "execution_count": 55,
   "id": "5a5f519f-9b36-463c-8820-d43740cbb75a",
   "metadata": {},
   "outputs": [
    {
     "data": {
      "application/vnd.jupyter.widget-view+json": {
       "model_id": "275253eb87384475b7821a98d6b4be7b",
       "version_major": 2,
       "version_minor": 0
      },
      "text/plain": [
       "Downloading readme:   0%|          | 0.00/4.65k [00:00<?, ?B/s]"
      ]
     },
     "metadata": {},
     "output_type": "display_data"
    },
    {
     "data": {
      "application/vnd.jupyter.widget-view+json": {
       "model_id": "b3a01ec2537d4fd78505621d731aece9",
       "version_major": 2,
       "version_minor": 0
      },
      "text/plain": [
       "Downloading data:   0%|          | 0.00/11.3M [00:00<?, ?B/s]"
      ]
     },
     "metadata": {},
     "output_type": "display_data"
    },
    {
     "data": {
      "application/vnd.jupyter.widget-view+json": {
       "model_id": "b7e3da42d62e4527bdac691a28bcc2f5",
       "version_major": 2,
       "version_minor": 0
      },
      "text/plain": [
       "Downloading data:   0%|          | 0.00/442k [00:00<?, ?B/s]"
      ]
     },
     "metadata": {},
     "output_type": "display_data"
    },
    {
     "data": {
      "application/vnd.jupyter.widget-view+json": {
       "model_id": "0918a975bec04e4c9174f811dbe28d43",
       "version_major": 2,
       "version_minor": 0
      },
      "text/plain": [
       "Downloading data:   0%|          | 0.00/1.35M [00:00<?, ?B/s]"
      ]
     },
     "metadata": {},
     "output_type": "display_data"
    },
    {
     "data": {
      "application/vnd.jupyter.widget-view+json": {
       "model_id": "2e7c63b12382442180b86ce48b723416",
       "version_major": 2,
       "version_minor": 0
      },
      "text/plain": [
       "Generating train split: 0 examples [00:00, ? examples/s]"
      ]
     },
     "metadata": {},
     "output_type": "display_data"
    },
    {
     "name": "stderr",
     "output_type": "stream",
     "text": [
      "C:\\Users\\pc\\OneDrive\\Documents\\Lib\\site-packages\\datasets\\download\\streaming_download_manager.py:784: FutureWarning: The 'verbose' keyword in pd.read_csv is deprecated and will be removed in a future version.\n",
      "  return pd.read_csv(xopen(filepath_or_buffer, \"rb\", download_config=download_config), **kwargs)\n"
     ]
    },
    {
     "data": {
      "application/vnd.jupyter.widget-view+json": {
       "model_id": "b5e2760776574d1c93823b4302851346",
       "version_major": 2,
       "version_minor": 0
      },
      "text/plain": [
       "Generating validation split: 0 examples [00:00, ? examples/s]"
      ]
     },
     "metadata": {},
     "output_type": "display_data"
    },
    {
     "name": "stderr",
     "output_type": "stream",
     "text": [
      "C:\\Users\\pc\\OneDrive\\Documents\\Lib\\site-packages\\datasets\\download\\streaming_download_manager.py:784: FutureWarning: The 'verbose' keyword in pd.read_csv is deprecated and will be removed in a future version.\n",
      "  return pd.read_csv(xopen(filepath_or_buffer, \"rb\", download_config=download_config), **kwargs)\n"
     ]
    },
    {
     "data": {
      "application/vnd.jupyter.widget-view+json": {
       "model_id": "ec7d8d2f04694113b87a5f2a1dcd2a1d",
       "version_major": 2,
       "version_minor": 0
      },
      "text/plain": [
       "Generating test split: 0 examples [00:00, ? examples/s]"
      ]
     },
     "metadata": {},
     "output_type": "display_data"
    },
    {
     "name": "stderr",
     "output_type": "stream",
     "text": [
      "C:\\Users\\pc\\OneDrive\\Documents\\Lib\\site-packages\\datasets\\download\\streaming_download_manager.py:784: FutureWarning: The 'verbose' keyword in pd.read_csv is deprecated and will be removed in a future version.\n",
      "  return pd.read_csv(xopen(filepath_or_buffer, \"rb\", download_config=download_config), **kwargs)\n"
     ]
    },
    {
     "data": {
      "application/vnd.jupyter.widget-view+json": {
       "model_id": "f7036ce88e1a40308c37e4842dbace1a",
       "version_major": 2,
       "version_minor": 0
      },
      "text/plain": [
       "config.json:   0%|          | 0.00/1.40k [00:00<?, ?B/s]"
      ]
     },
     "metadata": {},
     "output_type": "display_data"
    },
    {
     "name": "stderr",
     "output_type": "stream",
     "text": [
      "C:\\Users\\pc\\OneDrive\\Documents\\Lib\\site-packages\\huggingface_hub\\file_download.py:139: UserWarning: `huggingface_hub` cache-system uses symlinks by default to efficiently store duplicated files but your machine does not support them in C:\\Users\\pc\\.cache\\huggingface\\hub\\models--google--flan-t5-base. Caching files will still work but in a degraded version that might require more space on your disk. This warning can be disabled by setting the `HF_HUB_DISABLE_SYMLINKS_WARNING` environment variable. For more details, see https://huggingface.co/docs/huggingface_hub/how-to-cache#limitations.\n",
      "To support symlinks on Windows, you either need to activate Developer Mode or to run Python as an administrator. In order to activate developer mode, see this article: https://docs.microsoft.com/en-us/windows/apps/get-started/enable-your-device-for-development\n",
      "  warnings.warn(message)\n"
     ]
    },
    {
     "data": {
      "application/vnd.jupyter.widget-view+json": {
       "model_id": "820d8dcfbeaa4c878b18f3f218790733",
       "version_major": 2,
       "version_minor": 0
      },
      "text/plain": [
       "model.safetensors:   0%|          | 0.00/990M [00:00<?, ?B/s]"
      ]
     },
     "metadata": {},
     "output_type": "display_data"
    },
    {
     "data": {
      "application/vnd.jupyter.widget-view+json": {
       "model_id": "aaf06833ee3146808d6d28d0a896d446",
       "version_major": 2,
       "version_minor": 0
      },
      "text/plain": [
       "generation_config.json:   0%|          | 0.00/147 [00:00<?, ?B/s]"
      ]
     },
     "metadata": {},
     "output_type": "display_data"
    },
    {
     "data": {
      "application/vnd.jupyter.widget-view+json": {
       "model_id": "01a92325193d40ac8a3b43dd28eb3cb3",
       "version_major": 2,
       "version_minor": 0
      },
      "text/plain": [
       "tokenizer_config.json:   0%|          | 0.00/2.54k [00:00<?, ?B/s]"
      ]
     },
     "metadata": {},
     "output_type": "display_data"
    },
    {
     "data": {
      "application/vnd.jupyter.widget-view+json": {
       "model_id": "12c065b4a0ed4258b835ac700b61e8bc",
       "version_major": 2,
       "version_minor": 0
      },
      "text/plain": [
       "spiece.model:   0%|          | 0.00/792k [00:00<?, ?B/s]"
      ]
     },
     "metadata": {},
     "output_type": "display_data"
    },
    {
     "data": {
      "application/vnd.jupyter.widget-view+json": {
       "model_id": "ebef87d40f1347b1b38ce9fa1777f6c4",
       "version_major": 2,
       "version_minor": 0
      },
      "text/plain": [
       "tokenizer.json:   0%|          | 0.00/2.42M [00:00<?, ?B/s]"
      ]
     },
     "metadata": {},
     "output_type": "display_data"
    },
    {
     "data": {
      "application/vnd.jupyter.widget-view+json": {
       "model_id": "ba32f7bb6416458c8d7fdebb42eefdff",
       "version_major": 2,
       "version_minor": 0
      },
      "text/plain": [
       "special_tokens_map.json:   0%|          | 0.00/2.20k [00:00<?, ?B/s]"
      ]
     },
     "metadata": {},
     "output_type": "display_data"
    }
   ],
   "source": [
    "# Load the dataset\n",
    "huggingface_dataset_name = \"knkarthick/dialogsum\"\n",
    "dataset = load_dataset(huggingface_dataset_name)\n",
    "# Load the FLAN-T5 model\n",
    "model_name='google/flan-t5-base'\n",
    "model = AutoModelForSeq2SeqLM.from_pretrained(model_name)\n",
    "# Load the Tokenizer\n",
    "tokenizer = AutoTokenizer.from_pretrained(model_name, use_fast=True)\n"
   ]
  },
  {
   "cell_type": "markdown",
   "id": "3fe859e6-af06-4291-88b4-ae64a1acf6be",
   "metadata": {},
   "source": [
    "Using the DialogueSum dataset, we will evaluate whether the model can summarize the samples in the dataset. Here is the model's output compared to the reference summary:\n"
   ]
  },
  {
   "cell_type": "code",
   "execution_count": 81,
   "id": "2f9fe21a-c6ae-4c14-95bf-7fabbc0293a2",
   "metadata": {},
   "outputs": [
    {
     "name": "stdout",
     "output_type": "stream",
     "text": [
      "---------------------------------------------------------------------------------------------------\n",
      "Example  1\n",
      "---------------------------------------------------------------------------------------------------\n",
      "INPUT PROMPT:\n",
      "#Person1#: What time is it, Tom?\n",
      "#Person2#: Just a minute. It's ten to nine by my watch.\n",
      "#Person1#: Is it? I had no idea it was so late. I must be off now.\n",
      "#Person2#: What's the hurry?\n",
      "#Person1#: I must catch the nine-thirty train.\n",
      "#Person2#: You've plenty of time yet. The railway station is very close. It won't take more than twenty minutes to get there.\n",
      "---------------------------------------------------------------------------------------------------\n",
      "BASELINE HUMAN SUMMARY:\n",
      "#Person1# is in a hurry to catch a train. Tom tells #Person1# there is plenty of time.\n",
      "---------------------------------------------------------------------------------------------------\n",
      "MODEL GENERATION - WITHOUT PROMPT ENGINEERING:\n",
      "Person1: It's ten to nine.\n",
      "\n"
     ]
    }
   ],
   "source": [
    "example_indices = [40]\n",
    "dash_line = '-'.join('' for x in range(100))\n",
    "for i, index in enumerate(example_indices):\n",
    " dialogue = dataset['test'][index]['dialogue']\n",
    " summary = dataset['test'][index]['summary']\n",
    " inputs = tokenizer(dialogue, return_tensors='pt')\n",
    " output = tokenizer.decode(\n",
    " model.generate(\n",
    " inputs[\"input_ids\"],\n",
    " max_new_tokens=50,\n",
    " )[0],\n",
    " skip_special_tokens=True\n",
    " )\n",
    " print(dash_line)\n",
    " print('Example ', i + 1)\n",
    " print(dash_line)\n",
    " print(f'INPUT PROMPT:\\n{dialogue}')\n",
    " print(dash_line)\n",
    " print(f'BASELINE HUMAN SUMMARY:\\n{summary}')\n",
    " print(dash_line)\n",
    " print(f'MODEL GENERATION - WITHOUT PROMPT ENGINEERING:\\n{output}\\n')"
   ]
  },
  {
   "cell_type": "markdown",
   "id": "79addc4e-895f-4366-9f55-25b783e18b55",
   "metadata": {},
   "source": [
    "To evaluate the model, we will use the ROUGE score on 100 samples from the DialogueSum dataset. "
   ]
  },
  {
   "cell_type": "code",
   "execution_count": 84,
   "id": "e75bc684-c0db-4601-845d-795b2accc38a",
   "metadata": {},
   "outputs": [
    {
     "name": "stdout",
     "output_type": "stream",
     "text": [
      "ROUGE scores on 100 examples: {'rouge1': 0.22985888612649685, 'rouge2': 0.05351141075931014, 'rougeL': 0.19971145434168072, 'rougeLsum': 0.1995898529538735}\n"
     ]
    }
   ],
   "source": [
    "# Load the ROUGE metric\n",
    "rouge = evaluate.load(\"rouge\")\n",
    "generated_summaries = []\n",
    "reference_summaries = []\n",
    "# Iterate over 100 sample\n",
    "for i, sample in enumerate(dataset['test']):\n",
    " if i >= 100:\n",
    "  break\n",
    " dialogue = sample['dialogue']\n",
    " reference_summary = sample['summary']\n",
    " inputs = tokenizer(dialogue, return_tensors='pt')\n",
    " output = model.generate(inputs[\"input_ids\"], max_new_tokens=50)\n",
    " generated_summary = tokenizer.decode(output[0], skip_special_tokens=True)\n",
    " generated_summaries.append(generated_summary)\n",
    " reference_summaries.append(reference_summary)\n",
    "# Compute ROUGE score\n",
    "results = rouge.compute(predictions=generated_summaries, references=reference_summaries)\n",
    "print(\"ROUGE scores on 100 examples:\", results)\n"
   ]
  },
  {
   "cell_type": "markdown",
   "id": "a814a63c-13af-4d44-aa9e-c496059353d6",
   "metadata": {},
   "source": [
    "## 3 - Summarize Dialogue with an Instruction Prompt\n"
   ]
  },
  {
   "cell_type": "markdown",
   "id": "b8f3abd8-022e-4631-b4e2-3e624a9577a3",
   "metadata": {},
   "source": [
    "In this section, we will apply prompt engineering techniques to evaluate the model's performan ce across dierent prompting scenarios: zero-shot, one-shot, and two-shot. We will use the ROUGE metric to measure and compare the quality of the model's output in each case. This analysis will help us understand how the number of examples provided in the prompt impacts the model's ability to generate accurate summaries.\n"
   ]
  },
  {
   "cell_type": "markdown",
   "id": "f06a3db1-f799-4b4c-a3f1-1c02572543d4",
   "metadata": {},
   "source": [
    "### 3.1 - Zero Shot Inference with an Instruction Prompt"
   ]
  },
  {
   "cell_type": "markdown",
   "id": "77f07ad0-f56e-46f1-a162-4cbb87767796",
   "metadata": {},
   "source": [
    "The objectif in this part is to take the dialogue and convert it into an instruction prompt. This is often called **zero shot inference**.\n"
   ]
  },
  {
   "cell_type": "code",
   "execution_count": 90,
   "id": "4d6c223a-ab47-4198-bf7d-66a1f5f4e6a0",
   "metadata": {},
   "outputs": [
    {
     "name": "stdout",
     "output_type": "stream",
     "text": [
      "---------------------------------------------------------------------------------------------------\n",
      "Example  1\n",
      "---------------------------------------------------------------------------------------------------\n",
      "INPUT PROMPT:\n",
      "\n",
      "Dialogue:\n",
      "#Person1#: What time is it, Tom?\n",
      "#Person2#: Just a minute. It's ten to nine by my watch.\n",
      "#Person1#: Is it? I had no idea it was so late. I must be off now.\n",
      "#Person2#: What's the hurry?\n",
      "#Person1#: I must catch the nine-thirty train.\n",
      "#Person2#: You've plenty of time yet. The railway station is very close. It won't take more than twenty minutes to get there.\n",
      "What was going on?\n",
      " \n",
      "---------------------------------------------------------------------------------------------------\n",
      "BASELINE HUMAN SUMMARY:\n",
      "#Person1# is in a hurry to catch a train. Tom tells #Person1# there is plenty of time.\n",
      "---------------------------------------------------------------------------------------------------\n",
      "MODEL GENERATION - ZERO SHOT:\n",
      "Tom is late for the train.\n",
      "\n"
     ]
    }
   ],
   "source": [
    "for i, index in enumerate(example_indices):\n",
    " dialogue = dataset['test'][index]['dialogue']\n",
    " summary = dataset['test'][index]['summary']\n",
    " prompt = f\"\"\"\n",
    "Dialogue:\n",
    "{dialogue}\n",
    "What was going on?\n",
    " \"\"\"\n",
    " # Input constructed prompt instead of the dialogue.\n",
    " inputs = tokenizer(prompt, return_tensors='pt')\n",
    " output = tokenizer.decode(\n",
    " model.generate(\n",
    " inputs[\"input_ids\"],\n",
    " max_new_tokens=50,\n",
    " )[0],\n",
    " skip_special_tokens=True\n",
    " )\n",
    " print(dash_line)\n",
    " print('Example ', i + 1)\n",
    " print(dash_line)\n",
    " print(f'INPUT PROMPT:\\n{prompt}')\n",
    " print(dash_line)\n",
    " print(f'BASELINE HUMAN SUMMARY:\\n{summary}')\n",
    " print(dash_line)\n",
    " print(f'MODEL GENERATION - ZERO SHOT:\\n{output}\\n')\n",
    "    "
   ]
  },
  {
   "cell_type": "markdown",
   "id": "e5c1bebd-68cb-4743-bb09-487b6f4fa02d",
   "metadata": {},
   "source": [
    "This is much better! But the model still does not pick up on the nuance of the conversations though. Now let's measure the ROUGE metric"
   ]
  },
  {
   "cell_type": "code",
   "execution_count": 95,
   "id": "3fb96658-eb8e-422e-8d41-25c3e0551b76",
   "metadata": {},
   "outputs": [
    {
     "name": "stdout",
     "output_type": "stream",
     "text": [
      "ROUGE scores on 100 examples (zero-shot): {'rouge1': 0.28866833696322136, 'rouge2': 0.10115045577588985, 'rougeL': 0.24692684600956033, 'rougeLsum': 0.2482854774472725}\n"
     ]
    }
   ],
   "source": [
    "rouge = evaluate.load(\"rouge\")\n",
    "generated_summaries = []\n",
    "reference_summaries = []\n",
    "for i, sample in enumerate(dataset['test']):\n",
    " if i >= 100:\n",
    "  break\n",
    " dialogue = sample['dialogue']\n",
    " reference_summary = sample['summary']\n",
    " # Create a prompt for zero-shot summarization\n",
    " prompt = f\"\"\"\n",
    "Dialogue:\n",
    "{dialogue}\n",
    "What was going on?\n",
    " \"\"\"\n",
    " inputs = tokenizer(prompt, return_tensors='pt')\n",
    " output = model.generate(inputs[\"input_ids\"], max_new_tokens=50)\n",
    " generated_summary = tokenizer.decode(output[0], skip_special_tokens=True)\n",
    " generated_summaries.append(generated_summary)\n",
    " reference_summaries.append(reference_summary)\n",
    "# Compute ROUGE score\n",
    "results = rouge.compute(predictions=generated_summaries, references=reference_summaries)\n",
    "print(\"ROUGE scores on 100 examples (zero-shot):\", results)\n"
   ]
  },
  {
   "cell_type": "markdown",
   "id": "9070a09d-8d2a-4367-b88d-ccae67013b86",
   "metadata": {},
   "source": [
    "### 3.2 - One Shot Inference\n"
   ]
  },
  {
   "cell_type": "markdown",
   "id": "fd9ef0b3-7642-400f-af37-d8502b8386d6",
   "metadata": {},
   "source": [
    "The goal of this section is to provide context to the language model using oneshot inference, a technique known as 'in-context learning'.\n",
    "Using this technique, we will compute the ROUGE metric.\n"
   ]
  },
  {
   "cell_type": "code",
   "execution_count": 103,
   "id": "806cd2df-8fa9-412c-9e94-83c131305e67",
   "metadata": {},
   "outputs": [
    {
     "name": "stdout",
     "output_type": "stream",
     "text": [
      "ROUGE scores for 100 examples (one-shot): {'rouge1': 0.306552538404516, 'rouge2': 0.11128661307146379, 'rougeL': 0.2649343420536046, 'rougeLsum': 0.26551662157729183}\n"
     ]
    }
   ],
   "source": [
    "def make_prompt(example_indices_full, example_index_to_summarize):\n",
    "    prompt = ''\n",
    "    for index in example_indices_full:\n",
    "        dialogue = dataset['test'][index]['dialogue']\n",
    "        summary = dataset['test'][index]['summary']\n",
    "        prompt += f\"\"\"\n",
    "Dialogue:\n",
    "{dialogue}\n",
    "What was going on?\n",
    "{summary}\n",
    "\"\"\"\n",
    "    dialogue = dataset['test'][example_index_to_summarize]['dialogue']\n",
    "    prompt += f\"\"\"\n",
    "Dialogue:\n",
    "{dialogue}\n",
    "What was going on?\n",
    "\"\"\"\n",
    "    return prompt\n",
    "\n",
    "\n",
    "rouge = evaluate.load(\"rouge\")\n",
    "example_indices_full = [102]\n",
    "generated_summaries = []\n",
    "reference_summaries = []\n",
    "\n",
    "for i in range(100):\n",
    "    one_shot_prompt = make_prompt(example_indices_full, i)\n",
    "    summary = dataset['test'][i]['summary']\n",
    "    inputs = tokenizer(one_shot_prompt, return_tensors='pt')\n",
    "    output = model.generate(inputs[\"input_ids\"], max_new_tokens=50)\n",
    "    generated_summary = tokenizer.decode(output[0], skip_special_tokens=True)\n",
    "    generated_summaries.append(generated_summary)\n",
    "    reference_summaries.append(summary)\n",
    "\n",
    "results = rouge.compute(predictions=generated_summaries, references=reference_summaries)\n",
    "print(\"ROUGE scores for 100 examples (one-shot):\", results)\n"
   ]
  },
  {
   "cell_type": "markdown",
   "id": "5479e3d7-0d53-4c45-a059-04f8e2b759ec",
   "metadata": {},
   "source": [
    "### 3.3 - Two Shots Inference\n"
   ]
  },
  {
   "cell_type": "markdown",
   "id": "9521cdae-a216-44f6-8118-7c197dbf28bf",
   "metadata": {},
   "source": [
    "In this part, we will evaluate a two shots inference using ROUGE metric.\n"
   ]
  },
  {
   "cell_type": "code",
   "execution_count": 109,
   "id": "f252a36a-7ede-4ead-ae08-c150bb1b5d3a",
   "metadata": {},
   "outputs": [
    {
     "name": "stdout",
     "output_type": "stream",
     "text": [
      "ROUGE scores for 100 examples (two-shot): {'rouge1': 0.2903202749874811, 'rouge2': 0.10116693840747734, 'rougeL': 0.24787054904065486, 'rougeLsum': 0.2484963191718997}\n"
     ]
    }
   ],
   "source": [
    "def make_prompt(example_indices_full, example_index_to_summarize):\n",
    "    prompt = ''\n",
    "    for index in example_indices_full:\n",
    "        dialogue = dataset['test'][index]['dialogue']\n",
    "        summary = dataset['test'][index]['summary']\n",
    "        prompt += f\"\"\"\n",
    "Dialogue:\n",
    "{dialogue}\n",
    "What was going on?\n",
    "{summary}\n",
    "\"\"\"\n",
    "    dialogue = dataset['test'][example_index_to_summarize]['dialogue']\n",
    "    prompt += f\"\"\"\n",
    "Dialogue:\n",
    "{dialogue}\n",
    "What was going on?\n",
    "\"\"\"\n",
    "    return prompt\n",
    "\n",
    "\n",
    "example_indices_full = [102, 103]\n",
    "generated_summaries = []\n",
    "reference_summaries = []\n",
    "\n",
    "for i in range(100):\n",
    "    two_shot_prompt = make_prompt(example_indices_full, i)\n",
    "    summary = dataset['test'][i]['summary']\n",
    "    inputs = tokenizer(two_shot_prompt, return_tensors='pt')\n",
    "    output = model.generate(inputs[\"input_ids\"], max_new_tokens=50)\n",
    "    generated_summary = tokenizer.decode(output[0], skip_special_tokens=True)\n",
    "    generated_summaries.append(generated_summary)\n",
    "    reference_summaries.append(summary)\n",
    "\n",
    "results = rouge.compute(predictions=generated_summaries, references=reference_summaries)\n",
    "print(\"ROUGE scores for 100 examples (two-shot):\", results)\n"
   ]
  },
  {
   "cell_type": "markdown",
   "id": "9bda2b2e-73fb-47d5-97ab-c3792597295f",
   "metadata": {},
   "source": [
    "## 4 - Results\n"
   ]
  },
  {
   "cell_type": "markdown",
   "id": "b32b84a6-1f41-42e1-855d-deee56736be7",
   "metadata": {},
   "source": [
    "By analyzing the metric values across the four prompt scenarios, this figure clearly shows that a one-shot inference may be the best choice for this use case.\n"
   ]
  },
  {
   "cell_type": "code",
   "execution_count": 115,
   "id": "18983b3e-70f4-45fa-bb34-7f44a320ad32",
   "metadata": {},
   "outputs": [
    {
     "data": {
      "image/png": "[encoded data removed]",
      "text/plain": [
       "<Figure size 1000x600 with 1 Axes>"
      ]
     },
     "metadata": {},
     "output_type": "display_data"
    }
   ],
   "source": [
    "import matplotlib.pyplot as plt\n",
    "rouge_metrics = ['rouge2', 'rouge1', 'rougeL', 'rougeLsum']\n",
    "scores_by_prompt = {\n",
    " 'without prompt': [0.0533, 0.2295, 0.2000, 0.2003],\n",
    " 'zero shot': [0.0999, 0.2898, 0.2468, 0.2461],\n",
    " 'one shot': [0.1104, 0.3075, 0.2651, 0.2641],\n",
    " 'two shots': [0.1002, 0.2923, 0.2475, 0.2472]\n",
    "}\n",
    "colors = {\n",
    " 'without prompt': 'blue',\n",
    " 'zero shot': 'black',\n",
    " 'one shot': 'green',\n",
    " 'two shots': 'red'\n",
    "}\n",
    "plt.figure(figsize=(10, 6))\n",
    "for prompt, scores in scores_by_prompt.items():\n",
    " plt.plot(rouge_metrics, scores, marker='o', color=colors[prompt], label=prompt)\n",
    "plt.xlabel('ROUGE Metrics')\n",
    "plt.ylabel('Scores')\n",
    "plt.title('Scores par Métrique ROUGE')\n",
    "plt.legend()\n",
    "plt.grid(True)\n",
    "plt.show()    "
   ]
  },
  {
   "cell_type": "code",
   "execution_count": null,
   "id": "35ed89b1-fa46-4d1a-89c0-064ab2d5bf8e",
   "metadata": {},
   "outputs": [],
   "source": []
  }
 ],
 "metadata": {
  "kernelspec": {
   "display_name": "Python 3 (ipykernel)",
   "language": "python",
   "name": "python3"
  },
  "language_info": {
   "codemirror_mode": {
    "name": "ipython",
    "version": 3
   },
   "file_extension": ".py",
   "mimetype": "text/x-python",
   "name": "python",
   "nbconvert_exporter": "python",
   "pygments_lexer": "ipython3",
   "version": "3.12.7"
  }
 },
 "nbformat": 4,
 "nbformat_minor": 5
}
